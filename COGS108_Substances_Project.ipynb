{
 "cells": [
  {
   "cell_type": "markdown",
   "metadata": {},
   "source": [
    "# COGS 108 Substances Project\n",
    "By (names)"
   ]
  },
  {
   "cell_type": "markdown",
   "metadata": {},
   "source": [
    "## Import Modules"
   ]
  },
  {
   "cell_type": "code",
   "execution_count": 33,
   "metadata": {},
   "outputs": [],
   "source": [
    "import numpy as np\n",
    "import nilearn\n",
    "import nibabel as nib\n",
    "from nilearn import plotting\n",
    "import pandas as pd\n",
    "import matplotlib.pyplot as plt"
   ]
  },
  {
   "cell_type": "markdown",
   "metadata": {},
   "source": [
    "## Download data"
   ]
  },
  {
   "cell_type": "code",
   "execution_count": 34,
   "metadata": {},
   "outputs": [
    {
     "name": "stdout",
     "output_type": "stream",
     "text": [
      "                                             filename  \\\n",
      "0                            anat/sub-1001_T1w.nii.gz   \n",
      "1            fmap/sub-1001_acq-bold_magnitude1.nii.gz   \n",
      "2            fmap/sub-1001_acq-bold_magnitude2.nii.gz   \n",
      "3             fmap/sub-1001_acq-bold_phasediff.nii.gz   \n",
      "4           func/sub-1001_task-mid_run-1_sbref.nii.gz   \n",
      "5            func/sub-1001_task-mid_run-1_bold.nii.gz   \n",
      "6           func/sub-1001_task-mid_run-2_sbref.nii.gz   \n",
      "7            func/sub-1001_task-mid_run-2_bold.nii.gz   \n",
      "8   func/sub-1001_task-sharedreward_run-1_sbref.ni...   \n",
      "9   func/sub-1001_task-sharedreward_run-1_bold.nii.gz   \n",
      "10  func/sub-1001_task-sharedreward_run-2_sbref.ni...   \n",
      "11  func/sub-1001_task-sharedreward_run-2_bold.nii.gz   \n",
      "12  func/sub-1001_task-socialdoors_run-1_sbref.nii.gz   \n",
      "13   func/sub-1001_task-socialdoors_run-1_bold.nii.gz   \n",
      "14        func/sub-1001_task-doors_run-1_sbref.nii.gz   \n",
      "15         func/sub-1001_task-doors_run-1_bold.nii.gz   \n",
      "\n",
      "                      acq_time  operator   randstr  \n",
      "0   2019-12-17T13:43:36.270000       NaN  8abf0fbf  \n",
      "1   2019-12-17T14:02:26.130000       NaN  3f01fef9  \n",
      "2   2019-12-17T14:02:26.130000       NaN  3f01fef9  \n",
      "3   2019-12-17T14:02:26.130000       NaN  4f7c47b2  \n",
      "4   2019-12-17T14:04:47.730000       NaN  d542d073  \n",
      "5   2019-12-17T14:04:54.730000       NaN  feaf63db  \n",
      "6   2019-12-17T14:13:52.785000       NaN  618edf85  \n",
      "7   2019-12-17T14:13:59.785000       NaN  bb68800d  \n",
      "8   2019-12-17T14:23:43.272500       NaN  81382961  \n",
      "9   2019-12-17T14:23:50.272500       NaN  71960a50  \n",
      "10  2019-12-17T14:31:21.105000       NaN  e5a89b3a  \n",
      "11  2019-12-17T14:31:28.105000       NaN  ab8771d1  \n",
      "12  2019-12-17T14:39:44.682500       NaN  7168935f  \n",
      "13  2019-12-17T14:39:51.682500       NaN  3d9d2bfe  \n",
      "14  2019-12-17T14:49:09.462500       NaN  3fc1bd92  \n",
      "15  2019-12-17T14:49:16.462500       NaN  8d982c16  \n"
     ]
    }
   ],
   "source": [
    "url = \"https://s3.amazonaws.com/openneuro.org/ds004920/sub-1001/sub-1001_scans.tsv?versionId=8L7r6JNlNKNWgU5xnt1TTfb3Ql1Prhos\"\n",
    "# Use pandas to read the TSV file directly from the URL\n",
    "scans = pd.read_csv(url, sep='\\t')\n",
    "# Display the DataFrame\n",
    "print(scans)\n"
   ]
  },
  {
   "cell_type": "code",
   "execution_count": 35,
   "metadata": {},
   "outputs": [
    {
     "name": "stdout",
     "output_type": "stream",
     "text": [
      "                                          {\n",
      "0               \"AcquisitionMatrixPE\": 224,\n",
      "1                   \"AcquisitionNumber\": 1,\n",
      "2     \"AcquisitionTime\": \"13:43:36.270000\",\n",
      "3                    \"BaseResolution\": 224,\n",
      "4              \"BodyPartExamined\": \"BRAIN\",\n",
      "..                                      ...\n",
      "63                     \"SliceThickness\": 1,\n",
      "64      \"SoftwareVersions\": \"syngo MR E11\",\n",
      "65                   \"SpoilingState\": true,\n",
      "66              \"StationName\": \"AWP166048\",\n",
      "67                      \"TxRefAmp\": 245.43}\n",
      "\n",
      "[68 rows x 1 columns]\n"
     ]
    }
   ],
   "source": [
    "url = \"https://s3.amazonaws.com/openneuro.org/ds004920/sub-1001/anat/sub-1001_T1w.json?versionId=7UBqvKBkaCy26EUvEir.Z8eKkF2jyxRx\"\n",
    "# Use pandas to read the TSV file directly from the URL\n",
    "T1w = pd.read_csv(url, sep='\\t')\n",
    "# Display the DataFrame\n",
    "print(T1w)\n"
   ]
  },
  {
   "cell_type": "code",
   "execution_count": 36,
   "metadata": {},
   "outputs": [
    {
     "ename": "TypeError",
     "evalue": "expected str, bytes or os.PathLike object, not DataFrame",
     "output_type": "error",
     "traceback": [
      "\u001b[0;31m---------------------------------------------------------------------------\u001b[0m",
      "\u001b[0;31mTypeError\u001b[0m                                 Traceback (most recent call last)",
      "Cell \u001b[0;32mIn[36], line 6\u001b[0m\n\u001b[1;32m      3\u001b[0m df2 \u001b[38;5;241m=\u001b[39m pd\u001b[38;5;241m.\u001b[39mread_csv(url, sep\u001b[38;5;241m=\u001b[39m\u001b[38;5;124m'\u001b[39m\u001b[38;5;130;01m\\t\u001b[39;00m\u001b[38;5;124m'\u001b[39m)\n\u001b[1;32m      5\u001b[0m \u001b[38;5;66;03m# Use pandas to read the TSV file directly from the URL\u001b[39;00m\n\u001b[0;32m----> 6\u001b[0m df2 \u001b[38;5;241m=\u001b[39m nib\u001b[38;5;241m.\u001b[39mload(df2)\n\u001b[1;32m      8\u001b[0m \u001b[38;5;28mprint\u001b[39m(df2)\n",
      "File \u001b[0;32m/Applications/anaconda3/lib/python3.11/site-packages/nibabel/loadsave.py:96\u001b[0m, in \u001b[0;36mload\u001b[0;34m(filename, **kwargs)\u001b[0m\n\u001b[1;32m     81\u001b[0m \u001b[38;5;28;01mdef\u001b[39;00m \u001b[38;5;21mload\u001b[39m(filename: FileSpec, \u001b[38;5;241m*\u001b[39m\u001b[38;5;241m*\u001b[39mkwargs) \u001b[38;5;241m-\u001b[39m\u001b[38;5;241m>\u001b[39m FileBasedImage:\n\u001b[1;32m     82\u001b[0m \u001b[38;5;250m    \u001b[39m\u001b[38;5;124mr\u001b[39m\u001b[38;5;124;03m\"\"\"Load file given filename, guessing at file type\u001b[39;00m\n\u001b[1;32m     83\u001b[0m \n\u001b[1;32m     84\u001b[0m \u001b[38;5;124;03m    Parameters\u001b[39;00m\n\u001b[0;32m   (...)\u001b[0m\n\u001b[1;32m     94\u001b[0m \u001b[38;5;124;03m       Image of guessed type\u001b[39;00m\n\u001b[1;32m     95\u001b[0m \u001b[38;5;124;03m    \"\"\"\u001b[39;00m\n\u001b[0;32m---> 96\u001b[0m     filename \u001b[38;5;241m=\u001b[39m _stringify_path(filename)\n\u001b[1;32m     98\u001b[0m     \u001b[38;5;66;03m# Check file exists and is not empty\u001b[39;00m\n\u001b[1;32m     99\u001b[0m     \u001b[38;5;28;01mtry\u001b[39;00m:\n",
      "File \u001b[0;32m/Applications/anaconda3/lib/python3.11/site-packages/nibabel/filename_parser.py:41\u001b[0m, in \u001b[0;36m_stringify_path\u001b[0;34m(filepath_or_buffer)\u001b[0m\n\u001b[1;32m     25\u001b[0m \u001b[38;5;28;01mdef\u001b[39;00m \u001b[38;5;21m_stringify_path\u001b[39m(filepath_or_buffer: FileSpec) \u001b[38;5;241m-\u001b[39m\u001b[38;5;241m>\u001b[39m \u001b[38;5;28mstr\u001b[39m:\n\u001b[1;32m     26\u001b[0m \u001b[38;5;250m    \u001b[39m\u001b[38;5;124;03m\"\"\"Attempt to convert a path-like object to a string.\u001b[39;00m\n\u001b[1;32m     27\u001b[0m \n\u001b[1;32m     28\u001b[0m \u001b[38;5;124;03m    Parameters\u001b[39;00m\n\u001b[0;32m   (...)\u001b[0m\n\u001b[1;32m     39\u001b[0m \u001b[38;5;124;03m    https://github.com/pandas-dev/pandas/blob/325dd68/pandas/io/common.py#L131-L160\u001b[39;00m\n\u001b[1;32m     40\u001b[0m \u001b[38;5;124;03m    \"\"\"\u001b[39;00m\n\u001b[0;32m---> 41\u001b[0m     \u001b[38;5;28;01mreturn\u001b[39;00m pathlib\u001b[38;5;241m.\u001b[39mPath(filepath_or_buffer)\u001b[38;5;241m.\u001b[39mexpanduser()\u001b[38;5;241m.\u001b[39mas_posix()\n",
      "File \u001b[0;32m/Applications/anaconda3/lib/python3.11/pathlib.py:871\u001b[0m, in \u001b[0;36mPath.__new__\u001b[0;34m(cls, *args, **kwargs)\u001b[0m\n\u001b[1;32m    869\u001b[0m \u001b[38;5;28;01mif\u001b[39;00m \u001b[38;5;28mcls\u001b[39m \u001b[38;5;129;01mis\u001b[39;00m Path:\n\u001b[1;32m    870\u001b[0m     \u001b[38;5;28mcls\u001b[39m \u001b[38;5;241m=\u001b[39m WindowsPath \u001b[38;5;28;01mif\u001b[39;00m os\u001b[38;5;241m.\u001b[39mname \u001b[38;5;241m==\u001b[39m \u001b[38;5;124m'\u001b[39m\u001b[38;5;124mnt\u001b[39m\u001b[38;5;124m'\u001b[39m \u001b[38;5;28;01melse\u001b[39;00m PosixPath\n\u001b[0;32m--> 871\u001b[0m \u001b[38;5;28mself\u001b[39m \u001b[38;5;241m=\u001b[39m \u001b[38;5;28mcls\u001b[39m\u001b[38;5;241m.\u001b[39m_from_parts(args)\n\u001b[1;32m    872\u001b[0m \u001b[38;5;28;01mif\u001b[39;00m \u001b[38;5;129;01mnot\u001b[39;00m \u001b[38;5;28mself\u001b[39m\u001b[38;5;241m.\u001b[39m_flavour\u001b[38;5;241m.\u001b[39mis_supported:\n\u001b[1;32m    873\u001b[0m     \u001b[38;5;28;01mraise\u001b[39;00m \u001b[38;5;167;01mNotImplementedError\u001b[39;00m(\u001b[38;5;124m\"\u001b[39m\u001b[38;5;124mcannot instantiate \u001b[39m\u001b[38;5;132;01m%r\u001b[39;00m\u001b[38;5;124m on your system\u001b[39m\u001b[38;5;124m\"\u001b[39m\n\u001b[1;32m    874\u001b[0m                               \u001b[38;5;241m%\u001b[39m (\u001b[38;5;28mcls\u001b[39m\u001b[38;5;241m.\u001b[39m\u001b[38;5;18m__name__\u001b[39m,))\n",
      "File \u001b[0;32m/Applications/anaconda3/lib/python3.11/pathlib.py:509\u001b[0m, in \u001b[0;36mPurePath._from_parts\u001b[0;34m(cls, args)\u001b[0m\n\u001b[1;32m    504\u001b[0m \u001b[38;5;129m@classmethod\u001b[39m\n\u001b[1;32m    505\u001b[0m \u001b[38;5;28;01mdef\u001b[39;00m \u001b[38;5;21m_from_parts\u001b[39m(\u001b[38;5;28mcls\u001b[39m, args):\n\u001b[1;32m    506\u001b[0m     \u001b[38;5;66;03m# We need to call _parse_args on the instance, so as to get the\u001b[39;00m\n\u001b[1;32m    507\u001b[0m     \u001b[38;5;66;03m# right flavour.\u001b[39;00m\n\u001b[1;32m    508\u001b[0m     \u001b[38;5;28mself\u001b[39m \u001b[38;5;241m=\u001b[39m \u001b[38;5;28mobject\u001b[39m\u001b[38;5;241m.\u001b[39m\u001b[38;5;21m__new__\u001b[39m(\u001b[38;5;28mcls\u001b[39m)\n\u001b[0;32m--> 509\u001b[0m     drv, root, parts \u001b[38;5;241m=\u001b[39m \u001b[38;5;28mself\u001b[39m\u001b[38;5;241m.\u001b[39m_parse_args(args)\n\u001b[1;32m    510\u001b[0m     \u001b[38;5;28mself\u001b[39m\u001b[38;5;241m.\u001b[39m_drv \u001b[38;5;241m=\u001b[39m drv\n\u001b[1;32m    511\u001b[0m     \u001b[38;5;28mself\u001b[39m\u001b[38;5;241m.\u001b[39m_root \u001b[38;5;241m=\u001b[39m root\n",
      "File \u001b[0;32m/Applications/anaconda3/lib/python3.11/pathlib.py:493\u001b[0m, in \u001b[0;36mPurePath._parse_args\u001b[0;34m(cls, args)\u001b[0m\n\u001b[1;32m    491\u001b[0m     parts \u001b[38;5;241m+\u001b[39m\u001b[38;5;241m=\u001b[39m a\u001b[38;5;241m.\u001b[39m_parts\n\u001b[1;32m    492\u001b[0m \u001b[38;5;28;01melse\u001b[39;00m:\n\u001b[0;32m--> 493\u001b[0m     a \u001b[38;5;241m=\u001b[39m os\u001b[38;5;241m.\u001b[39mfspath(a)\n\u001b[1;32m    494\u001b[0m     \u001b[38;5;28;01mif\u001b[39;00m \u001b[38;5;28misinstance\u001b[39m(a, \u001b[38;5;28mstr\u001b[39m):\n\u001b[1;32m    495\u001b[0m         \u001b[38;5;66;03m# Force-cast str subclasses to str (issue #21127)\u001b[39;00m\n\u001b[1;32m    496\u001b[0m         parts\u001b[38;5;241m.\u001b[39mappend(\u001b[38;5;28mstr\u001b[39m(a))\n",
      "\u001b[0;31mTypeError\u001b[0m: expected str, bytes or os.PathLike object, not DataFrame"
     ]
    }
   ],
   "source": [
    "#trying to see if we can load the file fron a google drive sharing link\n",
    "url = \"https://drive.google.com/file/d/189QGPQ0BJ-PcRT5nWlSqAMYni4qukrB3/view?usp=sharing\"\n",
    "df2 = pd.read_csv(url, sep='\\t')\n",
    "\n",
    "# Use pandas to read the TSV file directly from the URL\n",
    "df2 = nib.load(df2)\n",
    "\n",
    "print(df2)"
   ]
  },
  {
   "cell_type": "code",
   "execution_count": null,
   "metadata": {},
   "outputs": [],
   "source": [
    "# import os\n",
    "\n",
    "# from nibabel.testing import data_path\n",
    "# sub1001_acq = os.path.join(data_path, 'sub-1001_acq-bold-magnitude1.nii.gz')\n",
    "\n",
    "# img = nib.load(sub1001_acq)"
   ]
  }
 ],
 "metadata": {
  "kernelspec": {
   "display_name": "base",
   "language": "python",
   "name": "python3"
  },
  "language_info": {
   "codemirror_mode": {
    "name": "ipython",
    "version": 3
   },
   "file_extension": ".py",
   "mimetype": "text/x-python",
   "name": "python",
   "nbconvert_exporter": "python",
   "pygments_lexer": "ipython3",
   "version": "3.11.4"
  }
 },
 "nbformat": 4,
 "nbformat_minor": 2
}
