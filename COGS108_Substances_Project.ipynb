{
 "cells": [
  {
   "cell_type": "code",
   "execution_count": 10,
   "metadata": {},
   "outputs": [],
   "source": [
    "import numpy as np\n",
    "import nilearn\n",
    "#hi "
   ]
  },
  {
   "cell_type": "code",
   "execution_count": 11,
   "metadata": {},
   "outputs": [],
   "source": [
    "import nibabel as nib\n",
    "from nilearn import plotting"
   ]
  },
  {
   "cell_type": "code",
   "execution_count": 12,
   "metadata": {},
   "outputs": [
    {
     "name": "stdout",
     "output_type": "stream",
     "text": [
      "                                             filename  \\\n",
      "0                            anat/sub-1001_T1w.nii.gz   \n",
      "1            fmap/sub-1001_acq-bold_magnitude1.nii.gz   \n",
      "2            fmap/sub-1001_acq-bold_magnitude2.nii.gz   \n",
      "3             fmap/sub-1001_acq-bold_phasediff.nii.gz   \n",
      "4           func/sub-1001_task-mid_run-1_sbref.nii.gz   \n",
      "5            func/sub-1001_task-mid_run-1_bold.nii.gz   \n",
      "6           func/sub-1001_task-mid_run-2_sbref.nii.gz   \n",
      "7            func/sub-1001_task-mid_run-2_bold.nii.gz   \n",
      "8   func/sub-1001_task-sharedreward_run-1_sbref.ni...   \n",
      "9   func/sub-1001_task-sharedreward_run-1_bold.nii.gz   \n",
      "10  func/sub-1001_task-sharedreward_run-2_sbref.ni...   \n",
      "11  func/sub-1001_task-sharedreward_run-2_bold.nii.gz   \n",
      "12  func/sub-1001_task-socialdoors_run-1_sbref.nii.gz   \n",
      "13   func/sub-1001_task-socialdoors_run-1_bold.nii.gz   \n",
      "14        func/sub-1001_task-doors_run-1_sbref.nii.gz   \n",
      "15         func/sub-1001_task-doors_run-1_bold.nii.gz   \n",
      "\n",
      "                      acq_time  operator   randstr  \n",
      "0   2019-12-17T13:43:36.270000       NaN  8abf0fbf  \n",
      "1   2019-12-17T14:02:26.130000       NaN  3f01fef9  \n",
      "2   2019-12-17T14:02:26.130000       NaN  3f01fef9  \n",
      "3   2019-12-17T14:02:26.130000       NaN  4f7c47b2  \n",
      "4   2019-12-17T14:04:47.730000       NaN  d542d073  \n",
      "5   2019-12-17T14:04:54.730000       NaN  feaf63db  \n",
      "6   2019-12-17T14:13:52.785000       NaN  618edf85  \n",
      "7   2019-12-17T14:13:59.785000       NaN  bb68800d  \n",
      "8   2019-12-17T14:23:43.272500       NaN  81382961  \n",
      "9   2019-12-17T14:23:50.272500       NaN  71960a50  \n",
      "10  2019-12-17T14:31:21.105000       NaN  e5a89b3a  \n",
      "11  2019-12-17T14:31:28.105000       NaN  ab8771d1  \n",
      "12  2019-12-17T14:39:44.682500       NaN  7168935f  \n",
      "13  2019-12-17T14:39:51.682500       NaN  3d9d2bfe  \n",
      "14  2019-12-17T14:49:09.462500       NaN  3fc1bd92  \n",
      "15  2019-12-17T14:49:16.462500       NaN  8d982c16  \n"
     ]
    }
   ],
   "source": [
    "import pandas as pd\n",
    "url = \"https://s3.amazonaws.com/openneuro.org/ds004920/sub-1001/sub-1001_scans.tsv?versionId=8L7r6JNlNKNWgU5xnt1TTfb3Ql1Prhos\"\n",
    "# Use pandas to read the TSV file directly from the URL\n",
    "df = pd.read_csv(url, sep='\\t')\n",
    "# Display the DataFrame\n",
    "print(df)\n"
   ]
  },
  {
   "cell_type": "code",
   "execution_count": 1,
   "metadata": {},
   "outputs": [
    {
     "name": "stdout",
     "output_type": "stream",
     "text": [
      "  participant_id  screen_bmi handedness        screen_race appt1_drugtest  \\\n",
      "0       sub-1001   22.128772       Left  Two or more races       negative   \n",
      "\n",
      "   appt1_breathalyzer        age    sex  deception  screen_meds_pastmonth  \\\n",
      "0                 0.0  19.294145  Woman         10                    1.0   \n",
      "\n",
      "   screen_meds_stabilizer  screen_meds_ssri  screen_meds_epilepsy  \\\n",
      "0                     0.0               0.0                   0.0   \n",
      "\n",
      "   screen_meds_psychosis  screen_meds_antianxiety  screen_meds_pain  \n",
      "0                    0.0                      0.0               0.0  \n"
     ]
    }
   ],
   "source": [
    "import pandas as pd\n",
    "\n",
    "\n",
    "url = \"https://s3.amazonaws.com/openneuro.org/ds004920/participants.tsv?versionId=BdKmd_YFun33Dgx9_jFZLooJJ655dAhk\"\n",
    "# Use pandas to read the TSV file directly from the URL\n",
    "df = pd.read_csv(url, sep='\\t')\n",
    "\n",
    "\n",
    "# Select the first two rows\n",
    "df_first_participant= df.head(1)\n",
    "\n",
    "# Print the result\n",
    "print(df_first_participant)"
   ]
  }
 ],
 "metadata": {
  "kernelspec": {
   "display_name": "base",
   "language": "python",
   "name": "python3"
  },
  "language_info": {
   "codemirror_mode": {
    "name": "ipython",
    "version": 3
   },
   "file_extension": ".py",
   "mimetype": "text/x-python",
   "name": "python",
   "nbconvert_exporter": "python",
   "pygments_lexer": "ipython3",
   "version": "3.11.4"
  }
 },
 "nbformat": 4,
 "nbformat_minor": 2
}
