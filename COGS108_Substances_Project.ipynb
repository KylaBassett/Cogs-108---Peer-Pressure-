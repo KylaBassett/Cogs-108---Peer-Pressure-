{
 "cells": [
  {
   "cell_type": "code",
   "execution_count": 1,
   "metadata": {},
   "outputs": [],
   "source": [
    "import numpy as np\n",
    "import nilearn\n",
    "#hi "
   ]
  },
  {
   "cell_type": "code",
   "execution_count": 2,
   "metadata": {},
   "outputs": [],
   "source": [
    "import nibabel as nib\n",
    "from nilearn import plotting"
   ]
  },
  {
   "cell_type": "code",
   "execution_count": 3,
   "metadata": {},
   "outputs": [
    {
     "name": "stdout",
     "output_type": "stream",
     "text": [
      "                                             filename  \\\n",
      "0                            anat/sub-1001_T1w.nii.gz   \n",
      "1            fmap/sub-1001_acq-bold_magnitude1.nii.gz   \n",
      "2            fmap/sub-1001_acq-bold_magnitude2.nii.gz   \n",
      "3             fmap/sub-1001_acq-bold_phasediff.nii.gz   \n",
      "4           func/sub-1001_task-mid_run-1_sbref.nii.gz   \n",
      "5            func/sub-1001_task-mid_run-1_bold.nii.gz   \n",
      "6           func/sub-1001_task-mid_run-2_sbref.nii.gz   \n",
      "7            func/sub-1001_task-mid_run-2_bold.nii.gz   \n",
      "8   func/sub-1001_task-sharedreward_run-1_sbref.ni...   \n",
      "9   func/sub-1001_task-sharedreward_run-1_bold.nii.gz   \n",
      "10  func/sub-1001_task-sharedreward_run-2_sbref.ni...   \n",
      "11  func/sub-1001_task-sharedreward_run-2_bold.nii.gz   \n",
      "12  func/sub-1001_task-socialdoors_run-1_sbref.nii.gz   \n",
      "13   func/sub-1001_task-socialdoors_run-1_bold.nii.gz   \n",
      "14        func/sub-1001_task-doors_run-1_sbref.nii.gz   \n",
      "15         func/sub-1001_task-doors_run-1_bold.nii.gz   \n",
      "\n",
      "                      acq_time  operator   randstr  \n",
      "0   2019-12-17T13:43:36.270000       NaN  8abf0fbf  \n",
      "1   2019-12-17T14:02:26.130000       NaN  3f01fef9  \n",
      "2   2019-12-17T14:02:26.130000       NaN  3f01fef9  \n",
      "3   2019-12-17T14:02:26.130000       NaN  4f7c47b2  \n",
      "4   2019-12-17T14:04:47.730000       NaN  d542d073  \n",
      "5   2019-12-17T14:04:54.730000       NaN  feaf63db  \n",
      "6   2019-12-17T14:13:52.785000       NaN  618edf85  \n",
      "7   2019-12-17T14:13:59.785000       NaN  bb68800d  \n",
      "8   2019-12-17T14:23:43.272500       NaN  81382961  \n",
      "9   2019-12-17T14:23:50.272500       NaN  71960a50  \n",
      "10  2019-12-17T14:31:21.105000       NaN  e5a89b3a  \n",
      "11  2019-12-17T14:31:28.105000       NaN  ab8771d1  \n",
      "12  2019-12-17T14:39:44.682500       NaN  7168935f  \n",
      "13  2019-12-17T14:39:51.682500       NaN  3d9d2bfe  \n",
      "14  2019-12-17T14:49:09.462500       NaN  3fc1bd92  \n",
      "15  2019-12-17T14:49:16.462500       NaN  8d982c16  \n"
     ]
    }
   ],
   "source": [
    "import pandas as pd\n",
    "url = \"https://s3.amazonaws.com/openneuro.org/ds004920/sub-1001/sub-1001_scans.tsv?versionId=8L7r6JNlNKNWgU5xnt1TTfb3Ql1Prhos\"\n",
    "# Use pandas to read the TSV file directly from the URL\n",
    "df = pd.read_csv(url, sep='\\t')\n",
    "# Display the DataFrame\n",
    "print(df)\n"
   ]
  },
  {
   "cell_type": "code",
   "execution_count": 4,
   "metadata": {},
   "outputs": [
    {
     "name": "stdout",
     "output_type": "stream",
     "text": [
      "  participant_id  screen_bmi handedness        screen_race appt1_drugtest  \\\n",
      "0       sub-1001   22.128772       Left  Two or more races       negative   \n",
      "\n",
      "   appt1_breathalyzer        age    sex  deception  screen_meds_pastmonth  \\\n",
      "0                 0.0  19.294145  Woman         10                    1.0   \n",
      "\n",
      "   screen_meds_stabilizer  screen_meds_ssri  screen_meds_epilepsy  \\\n",
      "0                     0.0               0.0                   0.0   \n",
      "\n",
      "   screen_meds_psychosis  screen_meds_antianxiety  screen_meds_pain  \n",
      "0                    0.0                      0.0               0.0  \n"
     ]
    }
   ],
   "source": [
    "import pandas as pd\n",
    "\n",
    "\n",
    "url = \"https://s3.amazonaws.com/openneuro.org/ds004920/participants.tsv?versionId=BdKmd_YFun33Dgx9_jFZLooJJ655dAhk\"\n",
    "# Use pandas to read the TSV file directly from the URL\n",
    "df = pd.read_csv(url, sep='\\t')\n",
    "\n",
    "\n",
    "# Select the first two rows\n",
    "df_first_participant= df.head(1)\n",
    "\n",
    "# Print the result\n",
    "print(df_first_participant)"
   ]
  },
  {
   "cell_type": "code",
   "execution_count": 1,
   "metadata": {},
   "outputs": [
    {
     "ename": "NameError",
     "evalue": "name 'pd' is not defined",
     "output_type": "error",
     "traceback": [
      "\u001b[0;31m---------------------------------------------------------------------------\u001b[0m",
      "\u001b[0;31mNameError\u001b[0m                                 Traceback (most recent call last)",
      "Cell \u001b[0;32mIn[1], line 3\u001b[0m\n\u001b[1;32m      1\u001b[0m url \u001b[38;5;241m=\u001b[39m \u001b[38;5;124m\"\u001b[39m\u001b[38;5;124mhttps://drive.google.com/file/d/189QGPQ0BJ-PcRT5nWlSqAMYni4qukrB3/view?usp=sharing\u001b[39m\u001b[38;5;124m\"\u001b[39m\n\u001b[1;32m      2\u001b[0m \u001b[38;5;66;03m# Use pandas to read the TSV file directly from the URL\u001b[39;00m\n\u001b[0;32m----> 3\u001b[0m df \u001b[38;5;241m=\u001b[39m \u001b[43mpd\u001b[49m\u001b[38;5;241m.\u001b[39mread_csv(url, sep\u001b[38;5;241m=\u001b[39m\u001b[38;5;124m'\u001b[39m\u001b[38;5;130;01m\\t\u001b[39;00m\u001b[38;5;124m'\u001b[39m)\n",
      "\u001b[0;31mNameError\u001b[0m: name 'pd' is not defined"
     ]
    }
   ],
   "source": [
    "#trying to see if we can load the file fron a google drive sharing link\n",
    "url = \"https://drive.google.com/file/d/189QGPQ0BJ-PcRT5nWlSqAMYni4qukrB3/view?usp=sharing\"\n",
    "# Use pandas to read the TSV file directly from the URL\n",
    "df2 = pd.read_csv(url, sep='\\t')"
   ]
  },
  {
   "cell_type": "code",
   "execution_count": 5,
   "metadata": {},
   "outputs": [
    {
     "ename": "FileNotFoundError",
     "evalue": "No such file or no access: '/Applications/anaconda3/lib/python3.11/site-packages/nibabel/tests/data/sub-1001_acq-bold-magnitude1.nii.gz'",
     "output_type": "error",
     "traceback": [
      "\u001b[0;31m---------------------------------------------------------------------------\u001b[0m",
      "\u001b[0;31mFileNotFoundError\u001b[0m                         Traceback (most recent call last)",
      "File \u001b[0;32m/Applications/anaconda3/lib/python3.11/site-packages/nibabel/loadsave.py:100\u001b[0m, in \u001b[0;36mload\u001b[0;34m(filename, **kwargs)\u001b[0m\n\u001b[1;32m     99\u001b[0m \u001b[38;5;28;01mtry\u001b[39;00m:\n\u001b[0;32m--> 100\u001b[0m     stat_result \u001b[38;5;241m=\u001b[39m os\u001b[38;5;241m.\u001b[39mstat(filename)\n\u001b[1;32m    101\u001b[0m \u001b[38;5;28;01mexcept\u001b[39;00m \u001b[38;5;167;01mOSError\u001b[39;00m:\n",
      "\u001b[0;31mFileNotFoundError\u001b[0m: [Errno 2] No such file or directory: '/Applications/anaconda3/lib/python3.11/site-packages/nibabel/tests/data/sub-1001_acq-bold-magnitude1.nii.gz'",
      "\nDuring handling of the above exception, another exception occurred:\n",
      "\u001b[0;31mFileNotFoundError\u001b[0m                         Traceback (most recent call last)",
      "Cell \u001b[0;32mIn[5], line 6\u001b[0m\n\u001b[1;32m      3\u001b[0m \u001b[38;5;28;01mfrom\u001b[39;00m \u001b[38;5;21;01mnibabel\u001b[39;00m\u001b[38;5;21;01m.\u001b[39;00m\u001b[38;5;21;01mtesting\u001b[39;00m \u001b[38;5;28;01mimport\u001b[39;00m data_path\n\u001b[1;32m      4\u001b[0m sub1001_acq \u001b[38;5;241m=\u001b[39m os\u001b[38;5;241m.\u001b[39mpath\u001b[38;5;241m.\u001b[39mjoin(data_path, \u001b[38;5;124m'\u001b[39m\u001b[38;5;124msub-1001_acq-bold-magnitude1.nii.gz\u001b[39m\u001b[38;5;124m'\u001b[39m)\n\u001b[0;32m----> 6\u001b[0m img \u001b[38;5;241m=\u001b[39m nib\u001b[38;5;241m.\u001b[39mload(sub1001_acq)\n",
      "File \u001b[0;32m/Applications/anaconda3/lib/python3.11/site-packages/nibabel/loadsave.py:102\u001b[0m, in \u001b[0;36mload\u001b[0;34m(filename, **kwargs)\u001b[0m\n\u001b[1;32m    100\u001b[0m     stat_result \u001b[38;5;241m=\u001b[39m os\u001b[38;5;241m.\u001b[39mstat(filename)\n\u001b[1;32m    101\u001b[0m \u001b[38;5;28;01mexcept\u001b[39;00m \u001b[38;5;167;01mOSError\u001b[39;00m:\n\u001b[0;32m--> 102\u001b[0m     \u001b[38;5;28;01mraise\u001b[39;00m \u001b[38;5;167;01mFileNotFoundError\u001b[39;00m(\u001b[38;5;124mf\u001b[39m\u001b[38;5;124m\"\u001b[39m\u001b[38;5;124mNo such file or no access: \u001b[39m\u001b[38;5;124m'\u001b[39m\u001b[38;5;132;01m{\u001b[39;00mfilename\u001b[38;5;132;01m}\u001b[39;00m\u001b[38;5;124m'\u001b[39m\u001b[38;5;124m\"\u001b[39m)\n\u001b[1;32m    103\u001b[0m \u001b[38;5;28;01mif\u001b[39;00m stat_result\u001b[38;5;241m.\u001b[39mst_size \u001b[38;5;241m<\u001b[39m\u001b[38;5;241m=\u001b[39m \u001b[38;5;241m0\u001b[39m:\n\u001b[1;32m    104\u001b[0m     \u001b[38;5;28;01mraise\u001b[39;00m ImageFileError(\u001b[38;5;124mf\u001b[39m\u001b[38;5;124m\"\u001b[39m\u001b[38;5;124mEmpty file: \u001b[39m\u001b[38;5;124m'\u001b[39m\u001b[38;5;132;01m{\u001b[39;00mfilename\u001b[38;5;132;01m}\u001b[39;00m\u001b[38;5;124m'\u001b[39m\u001b[38;5;124m\"\u001b[39m)\n",
      "\u001b[0;31mFileNotFoundError\u001b[0m: No such file or no access: '/Applications/anaconda3/lib/python3.11/site-packages/nibabel/tests/data/sub-1001_acq-bold-magnitude1.nii.gz'"
     ]
    }
   ],
   "source": [
    "import os\n",
    "\n",
    "from nibabel.testing import data_path\n",
    "sub1001_acq = os.path.join(data_path, 'sub-1001_acq-bold-magnitude1.nii.gz')\n",
    "\n",
    "img = nib.load(sub1001_acq)"
   ]
  }
 ],
 "metadata": {
  "kernelspec": {
   "display_name": "base",
   "language": "python",
   "name": "python3"
  },
  "language_info": {
   "codemirror_mode": {
    "name": "ipython",
    "version": 3
   },
   "file_extension": ".py",
   "mimetype": "text/x-python",
   "name": "python",
   "nbconvert_exporter": "python",
   "pygments_lexer": "ipython3",
   "version": "3.9.6"
  }
 },
 "nbformat": 4,
 "nbformat_minor": 2
}
